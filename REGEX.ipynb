{
  "cells": [
    {
      "cell_type": "markdown",
      "metadata": {
        "id": "view-in-github",
        "colab_type": "text"
      },
      "source": [
        "<a href=\"https://colab.research.google.com/github/Okamanager/Okamanager/blob/main/REGEX.ipynb\" target=\"_parent\"><img src=\"https://colab.research.google.com/assets/colab-badge.svg\" alt=\"Open In Colab\"/></a>"
      ]
    },
    {
      "cell_type": "code",
      "execution_count": null,
      "metadata": {
        "id": "fOvLjF_yfYIh"
      },
      "outputs": [],
      "source": [
        "import re\n",
        "text_to_search ='''\n",
        "abcdefghijklmnopqrstuvwxyzABCDEFGHIJKLMNOPQRSTUVWXYZ123456789 \n",
        "\n",
        "Ha HaHa\n",
        "\n",
        "Metacharacters (need to be escaped):\n",
        ". ^ £ $ * + { } [ ] \\ / ( )\n",
        "\n",
        "oka.com\n",
        "321-155-4321\n",
        "123.551.1234\n",
        "123*551*1234\n",
        "800-551-1234\n",
        "900-551-1234\n",
        "\n",
        "Mr. shafer\n",
        "Mr Smith\n",
        "Ms Davis\n",
        "Mrs Robinson\n",
        "Mr. T\n",
        "\n",
        "cat\n",
        "mat\n",
        "pat\n",
        "bat\n",
        "\n",
        "sentence = \"Start a sentence and then bring it to an end\"\n",
        "\n",
        "'''\n",
        "sentence = \"Start a sentence and then bring it to an end\""
      ]
    },
    {
      "cell_type": "code",
      "source": [
        "print(r\"\\tTab\")"
      ],
      "metadata": {
        "colab": {
          "base_uri": "https://localhost:8080/"
        },
        "id": "rrb8g2BkFOgG",
        "outputId": "5d2091c1-ffc5-426f-8615-ae20e163eda9"
      },
      "execution_count": null,
      "outputs": [
        {
          "output_type": "stream",
          "name": "stdout",
          "text": [
            "\\tTab\n"
          ]
        }
      ]
    },
    {
      "cell_type": "markdown",
      "source": [
        ""
      ],
      "metadata": {
        "id": "siq_7x2lILa5"
      }
    },
    {
      "cell_type": "markdown",
      "source": [
        "**RE-COMPILE**  is used to compile a regular expression pattern provided as a string into a regex pattern object\n",
        "\n",
        "**Find-iter** function matches a pattern in a string and returns an iterator that yields the Match objects of all non-overlapping matches."
      ],
      "metadata": {
        "id": "BRVkqBo6F-tD"
      }
    },
    {
      "cell_type": "code",
      "execution_count": null,
      "metadata": {
        "colab": {
          "base_uri": "https://localhost:8080/"
        },
        "id": "t7VyBNKUgcQO",
        "outputId": "42779fbd-6fea-4d64-d969-da797e769922"
      },
      "outputs": [
        {
          "output_type": "stream",
          "name": "stdout",
          "text": [
            "<re.Match object; span=(1, 4), match='abc'>\n"
          ]
        }
      ],
      "source": [
        "pattern = re.compile(r\"abc\")\n",
        "matches = pattern.finditer(text_to_search)\n",
        "for match in matches:\n",
        "  print(match)"
      ]
    },
    {
      "cell_type": "code",
      "source": [
        "pattern1 = re.compile(r\"\\d\\d\\d.\\d\\d\\d.\\d\\d\\d\")\n",
        "matches= pattern1.finditer(text_to_search)\n",
        "for k in matches:\n",
        "  print(k)"
      ],
      "metadata": {
        "colab": {
          "base_uri": "https://localhost:8080/"
        },
        "id": "OD-dnTGCHPna",
        "outputId": "40bc6740-9433-458e-e4b2-f9ad5bcf8112"
      },
      "execution_count": null,
      "outputs": [
        {
          "output_type": "stream",
          "name": "stdout",
          "text": [
            "<re.Match object; span=(148, 159), match='321-155-432'>\n",
            "<re.Match object; span=(161, 172), match='123-551-123'>\n"
          ]
        }
      ]
    },
    {
      "cell_type": "markdown",
      "source": [
        "**Character set**  [*-.] either a star,dash or a period"
      ],
      "metadata": {
        "id": "bWV2e2yJUCU1"
      }
    },
    {
      "cell_type": "code",
      "source": [
        "pattern2 = re.compile(r\"\\d\\d\\d[*-]\\d\\d\\d[*-]\\d\\d\\d\")\n",
        "matches= pattern2.finditer(text_to_search)\n",
        "for k in matches:\n",
        "  print(k)"
      ],
      "metadata": {
        "colab": {
          "base_uri": "https://localhost:8080/"
        },
        "id": "omBGwnJNH3Vo",
        "outputId": "d850a2d6-9323-40ac-9e65-b481912f147c"
      },
      "execution_count": null,
      "outputs": [
        {
          "output_type": "stream",
          "name": "stdout",
          "text": [
            "<re.Match object; span=(148, 159), match='321-155-432'>\n",
            "<re.Match object; span=(174, 185), match='123*551*123'>\n"
          ]
        }
      ]
    },
    {
      "cell_type": "code",
      "source": [
        "pattern3 = re.compile(r\"[89]00[*-]\\d\\d\\d[*-]\\d\\d\\d\")\n",
        "matches= pattern3.finditer(text_to_search)\n",
        "for k in matches:\n",
        "  print(k)"
      ],
      "metadata": {
        "colab": {
          "base_uri": "https://localhost:8080/"
        },
        "id": "ZjajxVykT2u3",
        "outputId": "49b506ac-6d83-42bc-bcad-3431e4836632"
      },
      "execution_count": null,
      "outputs": [
        {
          "output_type": "stream",
          "name": "stdout",
          "text": [
            "<re.Match object; span=(187, 198), match='800-551-123'>\n",
            "<re.Match object; span=(200, 211), match='900-551-123'>\n"
          ]
        }
      ]
    },
    {
      "cell_type": "markdown",
      "source": [
        "Character set for range [1-5] only between 1 and 5"
      ],
      "metadata": {
        "id": "-dXf1KmiUnee"
      }
    },
    {
      "cell_type": "code",
      "source": [
        "pattern4 = re.compile(r\"[1-5]\")\n",
        "matches= pattern4.finditer(text_to_search)\n",
        "for k in matches:\n",
        "  print(k)"
      ],
      "metadata": {
        "id": "s7fAail7Uvm-"
      },
      "execution_count": null,
      "outputs": []
    },
    {
      "cell_type": "markdown",
      "source": [
        "a caret ( ^ ) is at the beginning of the entire regular expression, it matches the beginning of a line. If a dollar sign ( $ ) is at the end of the entire regular expression, it matches the end of a line."
      ],
      "metadata": {
        "id": "vP2TpDbKWJv2"
      }
    },
    {
      "cell_type": "code",
      "source": [
        "pattern5 = re.compile(r\"^St\")\n",
        "matches= pattern5.finditer(sentence)\n",
        "for k in matches:\n",
        "  print(k)"
      ],
      "metadata": {
        "colab": {
          "base_uri": "https://localhost:8080/"
        },
        "id": "ssbIEXEhWI5X",
        "outputId": "93441696-a608-4248-f673-e837c84327ba"
      },
      "execution_count": null,
      "outputs": [
        {
          "output_type": "stream",
          "name": "stdout",
          "text": [
            "<re.Match object; span=(0, 2), match='St'>\n"
          ]
        }
      ]
    },
    {
      "cell_type": "markdown",
      "source": [
        "negation of caret [ ^ ] negates any string that is no starting with the specified string after a caret"
      ],
      "metadata": {
        "id": "-yN9_fAVYbR1"
      }
    },
    {
      "cell_type": "code",
      "source": [
        "pattern6 = re.compile(r\"[^b]at\")\n",
        "matches= pattern6.finditer(text_to_search)\n",
        "for k in matches:\n",
        "  print(k)"
      ],
      "metadata": {
        "colab": {
          "base_uri": "https://localhost:8080/"
        },
        "id": "RS9ikLleZATM",
        "outputId": "bb0a8a2a-7ebd-4512-98da-f1a6d0bc01da"
      },
      "execution_count": null,
      "outputs": [
        {
          "output_type": "stream",
          "name": "stdout",
          "text": [
            "<re.Match object; span=(261, 264), match='cat'>\n",
            "<re.Match object; span=(265, 268), match='mat'>\n",
            "<re.Match object; span=(269, 272), match='pat'>\n"
          ]
        }
      ]
    },
    {
      "cell_type": "markdown",
      "source": [
        "Quantifier match the preceding characters or character sets a number of times\n",
        "\n",
        "1.    *\tAsterisk\t** zero or more times.**\n",
        "\n",
        "2.    +\tPlus\tone or more times. \n",
        "\n",
        "3.    ?\tQuestion **zero or one time.**\n",
        "\n",
        "4.    { n }\tCurly Braces\t **exactly n times.**\n",
        "\n",
        "5.    { n ,}\tCurly Braces\t at l**east n times.**\n",
        "\n",
        "6.    { n , m }\tCurly Braces from **n to m times**."
      ],
      "metadata": {
        "id": "Zac4WVw5ZTeM"
      }
    },
    {
      "cell_type": "code",
      "source": [
        "pattern7 = re.compile(r\"Mr\\.?\\s[A-Z]\\w*\")\n",
        "matches= pattern7.finditer(text_to_search)\n",
        "for k in matches:\n",
        "  print(k)"
      ],
      "metadata": {
        "colab": {
          "base_uri": "https://localhost:8080/"
        },
        "id": "4zTPZnLabHt5",
        "outputId": "59d8d383-37c6-418f-ddea-471937f745d9"
      },
      "execution_count": null,
      "outputs": [
        {
          "output_type": "stream",
          "name": "stdout",
          "text": [
            "<re.Match object; span=(225, 233), match='Mr Smith'>\n",
            "<re.Match object; span=(256, 261), match='Mr. T'>\n"
          ]
        }
      ]
    },
    {
      "cell_type": "markdown",
      "source": [
        "Either or |\n",
        "group () "
      ],
      "metadata": {
        "id": "4jMlAHKuUsA1"
      }
    },
    {
      "cell_type": "code",
      "source": [
        "pattern7 = re.compile(r\"M(r|s|rs)\\.?\\s[A-Z]\\w*\")\n",
        "matches= pattern7.finditer(text_to_search)\n",
        "for k in matches:\n",
        "  print(k)"
      ],
      "metadata": {
        "colab": {
          "base_uri": "https://localhost:8080/"
        },
        "id": "s4lKYx1nU8a_",
        "outputId": "60a7a1b4-ed2c-40f0-ada1-5fa8868e501d"
      },
      "execution_count": null,
      "outputs": [
        {
          "output_type": "stream",
          "name": "stdout",
          "text": [
            "<re.Match object; span=(225, 233), match='Mr Smith'>\n",
            "<re.Match object; span=(234, 242), match='Ms Davis'>\n",
            "<re.Match object; span=(243, 255), match='Mrs Robinson'>\n",
            "<re.Match object; span=(256, 261), match='Mr. T'>\n"
          ]
        }
      ]
    },
    {
      "cell_type": "code",
      "source": [
        "emails= \"\"\"\n",
        "coreymschafer@gmail.com\n",
        "corey.schafer@university.edu\n",
        "corey-321-schafer@my-work.net\n",
        "\"\"\"\n"
      ],
      "metadata": {
        "id": "WRmI7KC9XDmo"
      },
      "execution_count": null,
      "outputs": []
    },
    {
      "cell_type": "code",
      "source": [
        "pattern8=re.compile(r\"[a-zA-Z0-9.-]+@[A-Za-z-]+\\.(edu|net|com)\")\n",
        "matches = pattern8.finditer(emails)\n",
        "for h in matches:\n",
        "  print(h)"
      ],
      "metadata": {
        "colab": {
          "base_uri": "https://localhost:8080/"
        },
        "id": "yIs25GuGXdNK",
        "outputId": "12bcc5b6-8f7a-455b-a27e-8720e335111b"
      },
      "execution_count": null,
      "outputs": [
        {
          "output_type": "stream",
          "name": "stdout",
          "text": [
            "<re.Match object; span=(1, 24), match='coreymschafer@gmail.com'>\n",
            "<re.Match object; span=(25, 53), match='corey.schafer@university.edu'>\n",
            "<re.Match object; span=(54, 83), match='corey-321-schafer@my-work.net'>\n"
          ]
        }
      ]
    },
    {
      "cell_type": "code",
      "source": [
        "urls=\"\"\"\n",
        "https://www.google.com/\n",
        "https://.coreys.com/\n",
        "https://youtube.com/\n",
        "https://www.nasa.gov/\n",
        "\"\"\""
      ],
      "metadata": {
        "id": "UTXc0vLraa02"
      },
      "execution_count": null,
      "outputs": []
    },
    {
      "cell_type": "code",
      "source": [
        "pattern9=re.compile(r\"https?://(www\\.)?(\\w+)(\\.\\w+)\")\n",
        "matches = pattern9.finditer(urls)\n",
        "for h in matches:\n",
        "  print(h)\n",
        "  print(h.group(1))\n",
        "  print(h.group(2))  \n",
        "  print(h.group(3))\n"
      ],
      "metadata": {
        "colab": {
          "base_uri": "https://localhost:8080/"
        },
        "id": "AZv678fcXv8e",
        "outputId": "222bf707-b8a8-403f-a8de-430d9ef93256"
      },
      "execution_count": null,
      "outputs": [
        {
          "output_type": "stream",
          "name": "stdout",
          "text": [
            "<re.Match object; span=(1, 23), match='https://www.google.com'>\n",
            "www.\n",
            "google\n",
            ".com\n",
            "<re.Match object; span=(46, 65), match='https://youtube.com'>\n",
            "None\n",
            "youtube\n",
            ".com\n",
            "<re.Match object; span=(67, 87), match='https://www.nasa.gov'>\n",
            "www.\n",
            "nasa\n",
            ".gov\n"
          ]
        }
      ]
    },
    {
      "cell_type": "markdown",
      "source": [
        "subbed urls for getting domain groups\n"
      ],
      "metadata": {
        "id": "zgi5XnUReaH_"
      }
    },
    {
      "cell_type": "code",
      "source": [
        "Subbed_url =pattern9.sub(r\"\\2\\3\",urls)\n",
        "print(Subbed_url)"
      ],
      "metadata": {
        "colab": {
          "base_uri": "https://localhost:8080/"
        },
        "id": "D3CCKepre6Ra",
        "outputId": "93e333b2-ae33-42f8-9a1c-b721f62ce514"
      },
      "execution_count": null,
      "outputs": [
        {
          "output_type": "stream",
          "name": "stdout",
          "text": [
            "\n",
            "google.com/\n",
            "https://.coreys.com/\n",
            "youtube.com/\n",
            "nasa.gov/\n",
            "\n"
          ]
        }
      ]
    },
    {
      "cell_type": "markdown",
      "source": [
        "Findall for finding all \n",
        "match for getting first string\n",
        "search for getting all strings\n",
        "re-ignorscore\n",
        "multilinestring"
      ],
      "metadata": {
        "id": "P6ZVVba7gTZX"
      }
    }
  ],
  "metadata": {
    "colab": {
      "name": "REGEX.ipynb",
      "provenance": [],
      "authorship_tag": "ABX9TyN6aW8xCTRXp79bVChujaeq",
      "include_colab_link": true
    },
    "kernelspec": {
      "display_name": "Python 3",
      "name": "python3"
    },
    "language_info": {
      "name": "python"
    }
  },
  "nbformat": 4,
  "nbformat_minor": 0
}